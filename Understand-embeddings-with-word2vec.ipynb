{
 "cells": [
  {
   "cell_type": "markdown",
   "metadata": {},
   "source": [
    "# Understand embeddings with Word2Vec\n",
    "\n",
    "### Exercise objectives:\n",
    "- Convert words to vector representations thanks to embeddings\n",
    "- Discover the powerful Word2Vec algorithm\n",
    "\n",
    "<hr>\n",
    "\n",
    "_Embeddings_ are representations of words thanks to vectors. These embeddings can be learned within a Neural Network. But it can take time to converge. Another option is to learn them as a first step. Then, use them directly to feed the word representation into an RNN. \n",
    "\n",
    "\n",
    "\n",
    "# The data\n",
    "\n",
    "Keras provides many datasets, among which is the ÌMDB dataset: it is comprised of sentences that are movie reviews. Each of them is related to a score given by the review writer.\n",
    "\n",
    "❓ **Question** ❓ Let's first load the data. You don't have to understand what is going on in the function, it does not matter here.\n",
    "\n",
    "⚠️ **Warning** ⚠️ The `load_data` function has a `percentage_of_sentences` argument. Depending on your computer, there are chances that too many sentences will make your compute slow down, or even freeze - your RAM can overflow. For that reason, **you should start with 10% of the sentences** and see if your computer handles it. Otherwise, rerun with a lower number.  \n",
    "\n",
    "⚠️ **DISCLAIMER** ⚠️ **No need to play _who has the biggest_ (RAM) !** The idea is to get to run your models quickly to prototype. Even in real life, it is recommended that you start with a subset of your data to loop and debug quickly. So increase the number only if you are into getting the best accuracy. "
   ]
  },
  {
   "cell_type": "code",
   "execution_count": 1,
   "metadata": {
    "ExecuteTime": {
     "end_time": "2022-11-18T11:26:56.266433Z",
     "start_time": "2022-11-18T11:26:39.449986Z"
    }
   },
   "outputs": [
    {
     "name": "stderr",
     "output_type": "stream",
     "text": [
      "2022-11-18 12:26:39.620007: I tensorflow/core/platform/cpu_feature_guard.cc:193] This TensorFlow binary is optimized with oneAPI Deep Neural Network Library (oneDNN) to use the following CPU instructions in performance-critical operations:  AVX2 FMA\n",
      "To enable them in other operations, rebuild TensorFlow with the appropriate compiler flags.\n",
      "2022-11-18 12:26:41.139650: W tensorflow/stream_executor/platform/default/dso_loader.cc:64] Could not load dynamic library 'libcudart.so.11.0'; dlerror: libcudart.so.11.0: cannot open shared object file: No such file or directory\n",
      "2022-11-18 12:26:41.139678: I tensorflow/stream_executor/cuda/cudart_stub.cc:29] Ignore above cudart dlerror if you do not have a GPU set up on your machine.\n",
      "2022-11-18 12:26:41.345134: E tensorflow/stream_executor/cuda/cuda_blas.cc:2981] Unable to register cuBLAS factory: Attempting to register factory for plugin cuBLAS when one has already been registered\n",
      "2022-11-18 12:26:44.753740: W tensorflow/stream_executor/platform/default/dso_loader.cc:64] Could not load dynamic library 'libnvinfer.so.7'; dlerror: libnvinfer.so.7: cannot open shared object file: No such file or directory\n",
      "2022-11-18 12:26:44.753980: W tensorflow/stream_executor/platform/default/dso_loader.cc:64] Could not load dynamic library 'libnvinfer_plugin.so.7'; dlerror: libnvinfer_plugin.so.7: cannot open shared object file: No such file or directory\n",
      "2022-11-18 12:26:44.753996: W tensorflow/compiler/tf2tensorrt/utils/py_utils.cc:38] TF-TRT Warning: Cannot dlopen some TensorRT libraries. If you would like to use Nvidia GPU with TensorRT, please make sure the missing libraries mentioned above are installed properly.\n",
      "2022-11-18 12:26:51.079764: W tensorflow/stream_executor/platform/default/dso_loader.cc:64] Could not load dynamic library 'libcuda.so.1'; dlerror: libcuda.so.1: cannot open shared object file: No such file or directory\n",
      "2022-11-18 12:26:51.080604: W tensorflow/stream_executor/cuda/cuda_driver.cc:263] failed call to cuInit: UNKNOWN ERROR (303)\n",
      "2022-11-18 12:26:51.080661: I tensorflow/stream_executor/cuda/cuda_diagnostics.cc:156] kernel driver does not appear to be running on this host (CB-PRO): /proc/driver/nvidia/version does not exist\n",
      "2022-11-18 12:26:51.084893: I tensorflow/core/platform/cpu_feature_guard.cc:193] This TensorFlow binary is optimized with oneAPI Deep Neural Network Library (oneDNN) to use the following CPU instructions in performance-critical operations:  AVX2 FMA\n",
      "To enable them in other operations, rebuild TensorFlow with the appropriate compiler flags.\n"
     ]
    }
   ],
   "source": [
    "###########################################\n",
    "### Just run this cell to load the data ###\n",
    "###########################################\n",
    "\n",
    "import tensorflow_datasets as tfds\n",
    "from tensorflow.keras.preprocessing.text import text_to_word_sequence\n",
    "\n",
    "def load_data(percentage_of_sentences=None):\n",
    "    train_data, test_data = tfds.load(name=\"imdb_reviews\", split=[\"train\", \"test\"], batch_size=-1, as_supervised=True)\n",
    "\n",
    "    train_sentences, y_train = tfds.as_numpy(train_data)\n",
    "    test_sentences, y_test = tfds.as_numpy(test_data)\n",
    "    \n",
    "    # Take only a given percentage of the entire data\n",
    "    if percentage_of_sentences is not None:\n",
    "        assert(percentage_of_sentences> 0 and percentage_of_sentences<=100)\n",
    "        \n",
    "        len_train = int(percentage_of_sentences/100*len(train_sentences))\n",
    "        train_sentences, y_train = train_sentences[:len_train], y_train[:len_train]\n",
    "  \n",
    "        len_test = int(percentage_of_sentences/100*len(test_sentences))\n",
    "        test_sentences, y_test = test_sentences[:len_test], y_test[:len_test]\n",
    "    \n",
    "    X_train = [text_to_word_sequence(_.decode(\"utf-8\")) for _ in train_sentences]\n",
    "    X_test = [text_to_word_sequence(_.decode(\"utf-8\")) for _ in test_sentences]\n",
    "    \n",
    "    return X_train, y_train, X_test, y_test\n",
    "\n",
    "X_train, y_train, X_test, y_test = load_data(percentage_of_sentences=20)"
   ]
  },
  {
   "cell_type": "markdown",
   "metadata": {},
   "source": [
    "In the previous exercise, we jointly learned a representation for the words, and fed this representation to a RNN, as shown here: \n",
    "\n",
    "<img src=\"layers_embedding.png\" width=\"400px\" />\n",
    "\n",
    "However, this increases the number of parameters to learn, which slows down and increases the difficulty of convergence!\n",
    "\n",
    "For this reason, we will separate the steps of learning the word representation and feeding it into a RNN. As shown here: \n",
    "\n",
    "<img src=\"word2vec_representation.png\" width=\"400px\" />\n",
    "\n",
    "We will learn the embedding with word2vec.\n",
    "\n",
    "The drawback is indeed that the learned embeddings are not _specifically_ designed for our task. However, learning them independently of the task at hand (sentiment analysis) has some advantages: \n",
    "- it is very fast to do in general (with word2vec)\n",
    "- the representation learned by word2vec is still meaningful \n",
    "- the convergence of the RNN alone will be easier and faster\n",
    "\n",
    "So let's learn an embedding with word2vec and see how meaningful it is!\n",
    "\n",
    "\n",
    "# Embedding with Word2Vec\n",
    "\n",
    "Let's use Word2Vec to embed the words of our sentences. Word2Vec will be able to convert each word to a fixed-size vectorial representation.\n",
    "\n",
    "For instance, we will have:\n",
    "- 'dog' --> [0.1, -0.3, 0.8]\n",
    "- 'cat' --> [-1.1, 2.3, 0.7]\n",
    "- 'apple' --> [3.1, 0.9, -4.7]\n",
    "\n",
    "Here, your embedding space is of size 3.\n",
    "\n",
    "What you expect is to have representation such as words with close meanings are close in this embedding space. As in this example:\n",
    "\n",
    "![Embedding](word_embedding.png)\n",
    "\n",
    "❓ **Question** ❓ Let's run Word2Vec! The following code imports word2vec from [GENSIM](https://radimrehurek.com/gensim/), a great python package that makes the use of the word2vec algorithm easy, fast and accurate - which is not an easy task. The second line learns the embedding representation of the words thanks to the sentences in `X_train`. The third line stores the words and their trained embeddings in `wv`."
   ]
  },
  {
   "cell_type": "code",
   "execution_count": null,
   "metadata": {
    "ExecuteTime": {
     "start_time": "2022-11-18T11:32:29.570Z"
    }
   },
   "outputs": [],
   "source": [
    "from gensim.models import Word2Vec\n",
    "\n",
    "word2vec = Word2Vec(sentences=X_train)\n",
    "wv = word2vec.wv"
   ]
  },
  {
   "cell_type": "markdown",
   "metadata": {},
   "source": [
    "Let's look at the embedded representation of some words.\n",
    "\n",
    "You can use `wv` as a dictionary.\n",
    "For instance, `wv['dog']` will return a representation of `dog` in the embedding space.\n",
    "\n",
    "❓ **Question** ❓ Try different words - especially, try non-existing words to see that they don't have any representation (which is perfectly normal as their representation was not learned). "
   ]
  },
  {
   "cell_type": "code",
   "execution_count": 89,
   "metadata": {
    "ExecuteTime": {
     "end_time": "2022-11-18T10:59:37.320471Z",
     "start_time": "2022-11-18T10:59:37.309481Z"
    },
    "tags": [
     "challengify"
    ]
   },
   "outputs": [
    {
     "data": {
      "text/plain": [
       "array([-0.18555415,  0.10899357,  0.09529596,  0.21006908,  0.03266552,\n",
       "       -0.1487612 ,  0.03862127,  0.40991676,  0.0096422 , -0.13902563,\n",
       "       -0.00496656, -0.24978283,  0.11488634, -0.10146506,  0.03669976,\n",
       "       -0.08791869,  0.1752047 , -0.24120834,  0.03771476, -0.32510963,\n",
       "        0.27265993, -0.05120822,  0.15271363, -0.23537397, -0.12767695,\n",
       "        0.14630228, -0.24292222, -0.00990323, -0.25528783,  0.00535264,\n",
       "       -0.11564039,  0.00885742, -0.08475363, -0.57552093, -0.00970419,\n",
       "        0.19945437,  0.07050998, -0.15064691, -0.1897304 , -0.26827988,\n",
       "        0.01490845, -0.04842067, -0.18958963,  0.05374971,  0.217391  ,\n",
       "       -0.20661396,  0.07526907, -0.23486471,  0.09187578,  0.12827766,\n",
       "        0.17444518, -0.13193567, -0.11724661, -0.04523108, -0.18964343,\n",
       "        0.09626861,  0.00511134,  0.1949457 , -0.24959335,  0.0886929 ,\n",
       "       -0.00381385,  0.11584627, -0.26056194,  0.068836  , -0.12340288,\n",
       "        0.08839175,  0.00842832,  0.1823956 , -0.14781936,  0.22371908,\n",
       "       -0.13424134, -0.0013454 ,  0.27199462, -0.16703115,  0.25928238,\n",
       "       -0.11372146, -0.05493477,  0.14153549, -0.1522806 ,  0.05555205,\n",
       "       -0.20673124,  0.00560426, -0.0534248 ,  0.21249086, -0.13995594,\n",
       "       -0.12066255,  0.16875699,  0.15915139,  0.14913692, -0.02999132,\n",
       "        0.1123096 ,  0.0733491 ,  0.02145578, -0.16824485,  0.23654628,\n",
       "        0.18347488,  0.174875  , -0.06154944, -0.06464356, -0.00177062],\n",
       "      dtype=float32)"
      ]
     },
     "execution_count": 89,
     "metadata": {},
     "output_type": "execute_result"
    }
   ],
   "source": [
    "wv['fish']"
   ]
  },
  {
   "cell_type": "markdown",
   "metadata": {},
   "source": [
    "❓ **Question** ❓ What is the size of each word representation, and therefore, what is the size of the embedding space?"
   ]
  },
  {
   "cell_type": "code",
   "execution_count": 28,
   "metadata": {
    "ExecuteTime": {
     "end_time": "2022-11-18T10:14:02.094269Z",
     "start_time": "2022-11-18T10:14:02.087826Z"
    },
    "tags": [
     "challengify"
    ]
   },
   "outputs": [
    {
     "name": "stdout",
     "output_type": "stream",
     "text": [
      "emb: 100 / size: 100\n"
     ]
    }
   ],
   "source": [
    "print('emb:',wv.vector_size,'/ size:', len(wv['dog']))"
   ]
  },
  {
   "cell_type": "markdown",
   "metadata": {},
   "source": [
    "How to know if this embedding make any sense? To do that, we will check that words with a close meaning have close representations. \n",
    "\n",
    "Let's use the [`Word2Vec.wv.most_similar`](https://radimrehurek.com/gensim/models/keyedvectors.html#gensim.models.keyedvectors.KeyedVectors.most_similar) method that, given an input word, displays the \"closest\" words in the embedding space. If the embedding is well done, then words that have similar meanings will have similar representation in the embedding space.\n",
    "\n",
    "❓ **Question** ❓ Test the `most_similar` method on different words. \n",
    "\n",
    "❗ **Remark** ❗ Indeed, the quality of the closeness will depend on the quality of your embedding, and thus, depend on the number of sentences that you have loaded and from which you create your embedding."
   ]
  },
  {
   "cell_type": "code",
   "execution_count": 32,
   "metadata": {
    "ExecuteTime": {
     "end_time": "2022-11-18T10:16:21.031602Z",
     "start_time": "2022-11-18T10:16:21.013825Z"
    },
    "tags": [
     "challengify"
    ]
   },
   "outputs": [
    {
     "data": {
      "text/plain": [
       "[('naked', 0.9327421188354492),\n",
       " ('bowl', 0.9320507645606995),\n",
       " ('water', 0.9318605661392212),\n",
       " ('step', 0.9306609034538269),\n",
       " ('woods', 0.9302541017532349),\n",
       " ('flying', 0.930204451084137),\n",
       " ('castle', 0.9290191531181335),\n",
       " ('chasing', 0.9281830191612244),\n",
       " ('field', 0.9279825687408447),\n",
       " ('arms', 0.9272319674491882)]"
      ]
     },
     "execution_count": 32,
     "metadata": {},
     "output_type": "execute_result"
    }
   ],
   "source": [
    "wv.most_similar('fish', topn=10)"
   ]
  },
  {
   "cell_type": "markdown",
   "metadata": {},
   "source": [
    "Similarly to `most_similar` used on words directly, we can use [`similar_by_vector`](https://radimrehurek.com/gensim/models/keyedvectors.html#gensim.models.keyedvectors.KeyedVectors.similar_by_vector) on vectors to do the same thing:"
   ]
  },
  {
   "cell_type": "code",
   "execution_count": 35,
   "metadata": {
    "ExecuteTime": {
     "end_time": "2022-11-18T10:16:59.213645Z",
     "start_time": "2022-11-18T10:16:59.181192Z"
    },
    "tags": [
     "challengify"
    ]
   },
   "outputs": [
    {
     "data": {
      "text/plain": [
       "[('naked', 0.9327421188354492),\n",
       " ('bowl', 0.9320507645606995),\n",
       " ('water', 0.9318605661392212),\n",
       " ('step', 0.9306609034538269),\n",
       " ('woods', 0.9302541017532349),\n",
       " ('flying', 0.930204451084137),\n",
       " ('castle', 0.9290191531181335),\n",
       " ('chasing', 0.9281830191612244),\n",
       " ('field', 0.9279825687408447),\n",
       " ('arms', 0.9272319674491882)]"
      ]
     },
     "execution_count": 35,
     "metadata": {},
     "output_type": "execute_result"
    }
   ],
   "source": [
    "wv.similar_by_vector('fish', topn=10)"
   ]
  },
  {
   "cell_type": "markdown",
   "metadata": {},
   "source": [
    "# Arithmetic on words\n",
    "\n",
    "Now, let's do mathematical operations on words - meaning on their vector representations!\n",
    "\n",
    "As any word is represented as a vector, you can do basic arithmetic as:\n",
    "\n",
    "$$W2V(good) - W2V(bad)$$\n",
    "\n",
    "❓ **Question** ❓ Do this mathematical operation and print the result"
   ]
  },
  {
   "cell_type": "code",
   "execution_count": 36,
   "metadata": {
    "ExecuteTime": {
     "end_time": "2022-11-18T10:17:35.126132Z",
     "start_time": "2022-11-18T10:17:35.115065Z"
    },
    "tags": [
     "challengify"
    ]
   },
   "outputs": [
    {
     "data": {
      "text/plain": [
       "array([-0.1671099 ,  1.1158203 , -0.39196438, -0.6045514 ,  0.2673478 ,\n",
       "       -0.3255365 ,  0.35490465, -0.14744657, -0.25390768, -0.3512666 ,\n",
       "        0.18060508,  0.59908843,  0.93022525, -0.01404846, -0.43073225,\n",
       "        0.562472  ,  0.8929522 ,  0.567627  , -1.7305863 , -0.90828276,\n",
       "       -0.65937734, -0.99592423, -0.12355989, -1.6547644 , -0.45102215,\n",
       "        0.09598911, -0.17446756,  0.89135325, -0.9527452 , -0.53256273,\n",
       "       -0.7592648 ,  0.6549697 , -0.16344091, -1.0091476 ,  0.37027043,\n",
       "       -1.4357855 , -0.48360187,  0.56829107,  0.5836082 ,  1.4902682 ,\n",
       "       -0.22851928,  0.09452033,  0.6268291 , -0.1348561 ,  0.2329433 ,\n",
       "       -0.075966  ,  0.74993813,  0.48231733,  0.39558542,  0.99268067,\n",
       "        0.40950957,  0.41906416, -0.24811503, -1.3957932 ,  0.5507777 ,\n",
       "       -0.49440175, -0.06030886,  0.49095526, -0.8295228 , -0.05534089,\n",
       "       -0.2414721 ,  0.17141306,  0.6042563 ,  0.12794095,  0.07990056,\n",
       "       -0.69703877,  0.47679806, -0.7398852 ,  0.574306  , -0.07290781,\n",
       "        0.7611851 ,  0.6081219 ,  0.80379575,  0.59400415,  0.0960981 ,\n",
       "        0.73965955,  0.1566285 ,  0.20394826, -0.43563628,  0.17041183,\n",
       "        1.1682354 ,  0.19117177, -0.07900083, -0.39116302, -1.2183839 ,\n",
       "       -0.47689128,  0.07458735,  0.14257699, -0.16056305,  0.06105992,\n",
       "       -0.46350962,  0.29473776, -0.20049393,  0.42361462, -0.38888288,\n",
       "        0.25020048,  0.12912092,  0.9250792 , -1.016643  , -0.16775462],\n",
       "      dtype=float32)"
      ]
     },
     "execution_count": 36,
     "metadata": {},
     "output_type": "execute_result"
    }
   ],
   "source": [
    "wv['good'] - wv['bad']"
   ]
  },
  {
   "cell_type": "markdown",
   "metadata": {},
   "source": [
    "Now, imagine for a second that the following equality holds true:\n",
    "\n",
    "$$W2V(good) - W2V(bad) = W2V(nice) - W2V(stupid)$$\n",
    "\n",
    "which is equivalent to:\n",
    "\n",
    "$$W2V(good) - W2V(bad) + W2V(stupid) = W2V(nice)$$\n",
    "\n",
    "❓ **Question** ❓ Let's, just for fun (as it would be bold of us to think that this equality holds true ...), do the operation $W2V(good) - W2V(bad) + W2V(stupid)$ and store it in a `res` variable (which will be a vector of size 100 that you can print)."
   ]
  },
  {
   "cell_type": "code",
   "execution_count": 38,
   "metadata": {
    "ExecuteTime": {
     "end_time": "2022-11-18T10:19:12.576507Z",
     "start_time": "2022-11-18T10:19:12.561801Z"
    },
    "tags": [
     "challengify"
    ]
   },
   "outputs": [
    {
     "data": {
      "text/plain": [
       "array([ 0.44050246,  0.31238157, -0.16191596, -0.9063362 ,  0.5082631 ,\n",
       "       -1.168242  , -0.45060086, -0.04305446, -0.6943519 , -0.32487443,\n",
       "       -0.31738025, -0.64160657,  1.0738465 ,  0.910401  ,  0.25829738,\n",
       "        0.09859878,  0.6797076 ,  0.22416422, -1.1273248 , -1.3656604 ,\n",
       "        0.8152406 , -0.8796792 ,  1.0685093 , -1.4001296 , -0.6273372 ,\n",
       "       -0.18798143,  0.25578743,  0.9787762 , -0.54694307, -0.33717692,\n",
       "       -0.38922292, -0.01293343,  0.18982327, -1.1306007 , -0.18964136,\n",
       "       -0.5619917 , -0.49596435,  0.998189  , -0.18820012,  0.27998734,\n",
       "       -0.35845673,  0.6610518 ,  0.08943897,  0.3130681 ,  0.19536799,\n",
       "        0.5126014 ,  0.42738378, -0.22863048,  0.282124  ,  0.6497131 ,\n",
       "        1.0863829 , -0.25579065, -0.09112154, -1.0957761 ,  0.2557321 ,\n",
       "       -0.46674806,  0.15984683,  0.5523486 , -1.0194296 ,  0.24502063,\n",
       "       -0.29912794, -0.5118924 ,  1.4908135 ,  0.2714255 , -0.5976806 ,\n",
       "       -0.00698835,  0.7158364 , -0.29167938,  0.293115  ,  0.08974424,\n",
       "        0.480819  ,  1.3603678 ,  0.72736144,  1.6177868 ,  0.56156677,\n",
       "        0.8664536 ,  0.44971353, -0.1065675 , -1.3711927 , -0.5469327 ,\n",
       "        0.89717126, -0.13209552, -0.6392797 ,  0.04698667, -1.1207975 ,\n",
       "       -0.30761403,  0.77471477, -0.16773385, -0.67038286,  0.61276615,\n",
       "       -0.19866887,  0.49529785, -1.0498027 ,  0.6541841 , -0.445561  ,\n",
       "        0.4694798 ,  0.01172256,  0.4102593 , -0.03385049, -0.2874424 ],\n",
       "      dtype=float32)"
      ]
     },
     "execution_count": 38,
     "metadata": {},
     "output_type": "execute_result"
    }
   ],
   "source": [
    "res = wv['good'] - wv['bad'] + wv['stupid']\n",
    "res"
   ]
  },
  {
   "cell_type": "markdown",
   "metadata": {},
   "source": [
    "We said earlier, that for any vector it is possible to see the closest vectors in the embedding space.\n",
    "\n",
    "❓ **Question** ❓ Look at the closest vector (thanks to the `similar_by_vector` function) of `res`"
   ]
  },
  {
   "cell_type": "code",
   "execution_count": 39,
   "metadata": {
    "ExecuteTime": {
     "end_time": "2022-11-18T10:19:42.683243Z",
     "start_time": "2022-11-18T10:19:42.655694Z"
    },
    "tags": [
     "challengify"
    ]
   },
   "outputs": [
    {
     "data": {
      "text/plain": [
       "[('good', 0.7624704837799072),\n",
       " ('nice', 0.7359461784362793),\n",
       " ('decent', 0.6839771866798401),\n",
       " ('great', 0.632158637046814),\n",
       " ('interesting', 0.6211627721786499),\n",
       " ('cool', 0.5980461835861206),\n",
       " ('fine', 0.5947336554527283),\n",
       " ('solid', 0.5824175477027893),\n",
       " ('cute', 0.5819118022918701),\n",
       " ('strange', 0.5804674625396729)]"
      ]
     },
     "execution_count": 39,
     "metadata": {},
     "output_type": "execute_result"
    }
   ],
   "source": [
    "wv.similar_by_vector(res, topn=10)"
   ]
  },
  {
   "cell_type": "markdown",
   "metadata": {},
   "source": [
    "Incredible right! You can do arithmetic operations on words!\n",
    "\n",
    "❓ **Question** ❓ You can try on arithmetic such as \n",
    "\n",
    "$$W2V(Boy) - W2V(Girl) = W2V(Man) - W2V(Woman)$$\n",
    "\n",
    "or \n",
    "\n",
    "$$W2V(Queen) - W2V(King) = W2V(actress) - W2V(actor)$$\n",
    "\n",
    "❗ **Remark** ❗ You will probably see that the results are not perfect. But don't forget that you trained your model on a very small corpus."
   ]
  },
  {
   "cell_type": "code",
   "execution_count": 43,
   "metadata": {
    "ExecuteTime": {
     "end_time": "2022-11-18T10:21:46.995621Z",
     "start_time": "2022-11-18T10:21:46.971780Z"
    },
    "tags": [
     "challengify"
    ]
   },
   "outputs": [
    {
     "data": {
      "text/plain": [
       "[('woman', 0.9026809334754944),\n",
       " ('child', 0.8861483931541443),\n",
       " ('boy', 0.8568129539489746),\n",
       " ('man', 0.8490236401557922),\n",
       " ('lady', 0.8084245324134827),\n",
       " ('baby', 0.7963420152664185),\n",
       " ('doctor', 0.7825407385826111),\n",
       " ('rich', 0.777028501033783),\n",
       " ('affair', 0.7749112844467163),\n",
       " ('victim', 0.7708556056022644)]"
      ]
     },
     "execution_count": 43,
     "metadata": {},
     "output_type": "execute_result"
    }
   ],
   "source": [
    "man1 = wv['boy'] - wv['girl'] + wv['woman']\n",
    "\n",
    "wv.similar_by_vector(man1, topn=10)"
   ]
  },
  {
   "cell_type": "markdown",
   "metadata": {},
   "source": [
    "You might wonder where does this magic comes from (at quite a low price, you just run a line of code on a very small corpus and it was trained within few minutes). The magic comes from the way Word2Vec is trained. The details are quite complex, but you can remember that Word2vec, in `word2vec = Word2Vec(sentences=X_train)`, actually trains a internal neural network (that you don't see).  \n",
    "\n",
    "In a nutshell, this internal NN predicts a word from the surroundings words in a sentences. So it splits the original sentences, then for each split it chooses some words as inputs $X$ and a word as the output $y$ which it tries to predict, using the embedding space.\n",
    "\n",
    "And as with any neural network, Word2Vec has some hyperparameters. Let's check some out. \n",
    "\n",
    "\n",
    "# Word2Vec hyperparameters\n",
    "\n",
    "\n",
    "❓ **Question** ❓ The first important hyperparameter is the `vector_size` argument. It corresponds to the size of the embedding space. Learn a new `word2vec_2` model, still trained on the `X_train`, but with a smaller or higher `vector_size`.\n",
    "\n",
    "Verify on some words that the corresponding embedding is of your selected size."
   ]
  },
  {
   "cell_type": "code",
   "execution_count": 44,
   "metadata": {
    "ExecuteTime": {
     "end_time": "2022-11-18T10:23:53.818049Z",
     "start_time": "2022-11-18T10:23:48.758488Z"
    },
    "tags": [
     "challengify"
    ]
   },
   "outputs": [],
   "source": [
    "wordvec_2 = Word2Vec(X_train,vector_size=50)"
   ]
  },
  {
   "cell_type": "code",
   "execution_count": 48,
   "metadata": {
    "ExecuteTime": {
     "end_time": "2022-11-18T10:24:52.915324Z",
     "start_time": "2022-11-18T10:24:52.905606Z"
    }
   },
   "outputs": [
    {
     "data": {
      "text/plain": [
       "50"
      ]
     },
     "execution_count": 48,
     "metadata": {},
     "output_type": "execute_result"
    }
   ],
   "source": [
    "wv2 = wordvec_2.wv\n",
    "wv2.vector_size\n",
    "len(wv2['dog'])"
   ]
  },
  {
   "cell_type": "markdown",
   "metadata": {},
   "source": [
    "❓ **Question** ❓ Use the `Word2Vec.wv.key_to_index` attribute to display the size of the learned vocabulary. Compare it to the number of different words in `X_train`."
   ]
  },
  {
   "cell_type": "code",
   "execution_count": 59,
   "metadata": {
    "ExecuteTime": {
     "end_time": "2022-11-18T10:28:26.365813Z",
     "start_time": "2022-11-18T10:28:26.357207Z"
    },
    "tags": [
     "challengify"
    ]
   },
   "outputs": [
    {
     "name": "stdout",
     "output_type": "stream",
     "text": [
      "wv2: 12683 X_train: 5000\n"
     ]
    }
   ],
   "source": [
    "import numpy as np\n",
    "print('wv2:',len(wv2.key_to_index),'X_train:',len(X_train))"
   ]
  },
  {
   "cell_type": "markdown",
   "metadata": {},
   "source": [
    "There is an important difference between the number of words in the train sentences and in the Word2Vec vocabulary, even though it has been trained on the train sentence set. The reasons comes from the second important hyperparameter of Word2Vec:  `min_count`. \n",
    "\n",
    "`min_count` is a integer that tells you how many occurrences a given word should have to be learned in the embedding space. For instance, let's say that the word \"movie\" appears 1000 times in the corpus and \"simba\" only 2 times. If `min_count=3`, the word \"simba\" will be skipped during the training.\n",
    "\n",
    "The intention is to have only words that are sufficiently present in the corpus to have a robust embedded representation\n",
    "\n",
    "❓ **Question** ❓ Learn a new `word2vec_3` model with a `min_count` higher than 5 (which is the default value) and a `word2vec_4` with a `min_count` smaller than 5, and then, compare the size of the vocabulary for all the different word2vecs that you have trained (you can choose any `vector_size` you want)."
   ]
  },
  {
   "cell_type": "code",
   "execution_count": 60,
   "metadata": {
    "ExecuteTime": {
     "end_time": "2022-11-18T10:32:13.278483Z",
     "start_time": "2022-11-18T10:32:04.409960Z"
    },
    "tags": [
     "challengify"
    ]
   },
   "outputs": [],
   "source": [
    "word2vec_3 = Word2Vec(X_train, min_count=20,vector_size=70)\n",
    "word2vec_4 = Word2Vec(X_train, min_count=2,vector_size=70)\n",
    "wv3 = word2vec_3.wv\n",
    "wv4 = word2vec_4.wv"
   ]
  },
  {
   "cell_type": "code",
   "execution_count": 63,
   "metadata": {
    "ExecuteTime": {
     "end_time": "2022-11-18T10:33:17.906943Z",
     "start_time": "2022-11-18T10:33:17.897562Z"
    }
   },
   "outputs": [
    {
     "data": {
      "text/plain": [
       "(4418, 24403)"
      ]
     },
     "execution_count": 63,
     "metadata": {},
     "output_type": "execute_result"
    }
   ],
   "source": [
    "len(wv3.key_to_index), len(wv4.key_to_index)"
   ]
  },
  {
   "cell_type": "markdown",
   "metadata": {},
   "source": [
    "Remember that we said word2vec has an internal neural network that it optimizes based on some predictions? These predictions actually correspond to predicting a word based on surrounding words. The surroundings words are in a `window` which corresponds to the number of words taken into account. And you can train the word2vec with different `window` sizes.\n",
    "\n",
    "❓ **Question** ❓ Train a new `word2vec_5` model with a `window` different than previously (default is 5)."
   ]
  },
  {
   "cell_type": "code",
   "execution_count": 64,
   "metadata": {
    "ExecuteTime": {
     "end_time": "2022-11-18T10:35:15.011975Z",
     "start_time": "2022-11-18T10:35:03.646144Z"
    },
    "tags": [
     "challengify"
    ]
   },
   "outputs": [
    {
     "data": {
      "text/plain": [
       "(12683, 12683)"
      ]
     },
     "execution_count": 64,
     "metadata": {},
     "output_type": "execute_result"
    }
   ],
   "source": [
    "word2vec_5 = Word2Vec(X_train, window=10)\n",
    "word2vec_6 = Word2Vec(X_train, window=2)\n",
    "\n",
    "len(word2vec_5.wv.key_to_index), len(word2vec_6.wv.key_to_index)"
   ]
  },
  {
   "cell_type": "code",
   "execution_count": 92,
   "metadata": {
    "ExecuteTime": {
     "end_time": "2022-11-18T11:00:39.637079Z",
     "start_time": "2022-11-18T11:00:39.626079Z"
    }
   },
   "outputs": [
    {
     "data": {
      "text/plain": [
       "100"
      ]
     },
     "execution_count": 92,
     "metadata": {},
     "output_type": "execute_result"
    }
   ],
   "source": [
    "res = [word2vec.wv.get_vector(word) for word in example]\n",
    "\n",
    "len(res[1])"
   ]
  },
  {
   "cell_type": "markdown",
   "metadata": {},
   "source": [
    "The arguments you have seen (`vector_size`, `min_count` and `window`) are usually the ones that you should start changing to get a better performance for your model.\n",
    "\n",
    "But you can also look at other arguments in the [documentation](https://radimrehurek.com/gensim/models/word2vec.html#gensim.models.word2vec.Text8Corpus)\n",
    "\n",
    "\n",
    "\n",
    "# Convert our train and test set to RNN ready data\n",
    "\n",
    "Remember that word2vec is the first step to the overall process of feeding such a representation into a RNN, as shown here:\n",
    "\n",
    "<img src=\"word2vec_representation.png\" width=\"400px\" />\n",
    "\n",
    "\n",
    "\n",
    "Now, let's work on Step 2 by converting the training and test data into their vector representation to be ready to be feed in RNNs.\n",
    "\n",
    "❓ **Question** ❓ Now, write a function that, given a sentence, returns a matrix that corresponds to the embedding of the full sentence, which means that you have to embed each word one after the other and concatenate the result to output a 2D matrix (be sure that your output is a NumPy array)\n",
    "\n",
    "❗ **Remark** ❗ You will probably notice that some words you are trying to convert throw errors as they are said not to belong to the dictionary:\n",
    "\n",
    "- for the test set, this is understandable: some words were not in the train set and thus their embedded representation is unknown\n",
    "- for the train set, due to `min_count` hyperparameter, not all the words have a vector representation\n",
    "\n",
    "In any case, just skip the missing words here."
   ]
  },
  {
   "cell_type": "code",
   "execution_count": 2,
   "metadata": {
    "ExecuteTime": {
     "end_time": "2022-11-18T11:26:57.641188Z",
     "start_time": "2022-11-18T11:26:56.272883Z"
    }
   },
   "outputs": [
    {
     "ename": "NameError",
     "evalue": "name 'word2vec' is not defined",
     "output_type": "error",
     "traceback": [
      "\u001b[0;31m---------------------------------------------------------------------------\u001b[0m",
      "\u001b[0;31mNameError\u001b[0m                                 Traceback (most recent call last)",
      "Cell \u001b[0;32mIn [2], line 11\u001b[0m\n\u001b[1;32m      8\u001b[0m     \u001b[38;5;28;01mreturn\u001b[39;00m np\u001b[38;5;241m.\u001b[39marray(embedded_sentence)\n\u001b[1;32m     10\u001b[0m \u001b[38;5;66;03m### Checks\u001b[39;00m\n\u001b[0;32m---> 11\u001b[0m embedded_sentence \u001b[38;5;241m=\u001b[39m embed_sentence(word2vec, example)\n\u001b[1;32m     12\u001b[0m \u001b[38;5;28;01massert\u001b[39;00m(\u001b[38;5;28mtype\u001b[39m(embedded_sentence) \u001b[38;5;241m==\u001b[39m np\u001b[38;5;241m.\u001b[39mndarray)\n\u001b[1;32m     13\u001b[0m \u001b[38;5;28;01massert\u001b[39;00m(embedded_sentence\u001b[38;5;241m.\u001b[39mshape \u001b[38;5;241m==\u001b[39m (\u001b[38;5;241m8\u001b[39m, \u001b[38;5;241m100\u001b[39m))\n",
      "\u001b[0;31mNameError\u001b[0m: name 'word2vec' is not defined"
     ]
    }
   ],
   "source": [
    "import numpy as np\n",
    "\n",
    "example = ['this', 'movie', 'is', 'the', 'worst', 'action', 'movie', 'ever']\n",
    "example_missing_words = ['this', 'movie', 'is', 'laaaaaaaaaame']\n",
    "\n",
    "def embed_sentence(word2vec, sentence):\n",
    "    embedded_sentence = [word2vec.wv.get_vector(word) for word in sentence if word in word2vec.wv]\n",
    "    return np.array(embedded_sentence)\n",
    "    \n",
    "### Checks\n",
    "embedded_sentence = embed_sentence(word2vec, example)\n",
    "assert(type(embedded_sentence) == np.ndarray)\n",
    "assert(embedded_sentence.shape == (8, 100))\n",
    "\n",
    "embedded_sentence_missing_words = embed_sentence(word2vec, example_missing_words)  \n",
    "assert(type(embedded_sentence_missing_words) == np.ndarray)\n",
    "assert(embedded_sentence_missing_words.shape == (3, 100))"
   ]
  },
  {
   "cell_type": "code",
   "execution_count": 124,
   "metadata": {
    "ExecuteTime": {
     "end_time": "2022-11-18T11:13:09.890977Z",
     "start_time": "2022-11-18T11:13:09.879125Z"
    }
   },
   "outputs": [
    {
     "data": {
      "text/plain": [
       "list"
      ]
     },
     "execution_count": 124,
     "metadata": {},
     "output_type": "execute_result"
    }
   ],
   "source": [
    "type(X_train[0])"
   ]
  },
  {
   "cell_type": "code",
   "execution_count": 131,
   "metadata": {
    "ExecuteTime": {
     "end_time": "2022-11-18T11:15:42.863050Z",
     "start_time": "2022-11-18T11:15:40.057325Z"
    }
   },
   "outputs": [],
   "source": [
    "for i in X_train:\n",
    "    embed_sentence(word2vec, i)"
   ]
  },
  {
   "cell_type": "code",
   "execution_count": null,
   "metadata": {
    "ExecuteTime": {
     "end_time": "2022-11-18T11:17:47.648063Z",
     "start_time": "2022-11-18T11:17:47.559884Z"
    }
   },
   "outputs": [],
   "source": []
  },
  {
   "cell_type": "markdown",
   "metadata": {},
   "source": [
    "❓ **Question** ❓ Write a function that, given a list of sentences (each sentence being a list of words/strings), returns a list of embedded sentences (each sentence is a matrix). Apply this function to the train and test sentences\n",
    "\n",
    "Hint: Use the previous function `embed_sentence`"
   ]
  },
  {
   "cell_type": "code",
   "execution_count": null,
   "metadata": {
    "ExecuteTime": {
     "end_time": "2022-11-18T11:26:57.647698Z",
     "start_time": "2022-11-18T11:26:57.647669Z"
    }
   },
   "outputs": [],
   "source": [
    "def embedding(word2vec, sentences):\n",
    "    return [embed_sentence(word2vec,i) for i in sentences]\n",
    "\n"
   ]
  },
  {
   "cell_type": "code",
   "execution_count": null,
   "metadata": {
    "ExecuteTime": {
     "end_time": "2022-11-18T11:26:57.652863Z",
     "start_time": "2022-11-18T11:26:57.652820Z"
    }
   },
   "outputs": [],
   "source": [
    "X_train = embedding(word2vec, X_train)\n",
    "X_test = embedding(word2vec, X_test)\n"
   ]
  },
  {
   "cell_type": "code",
   "execution_count": 10,
   "metadata": {
    "ExecuteTime": {
     "end_time": "2022-11-18T11:31:55.369701Z",
     "start_time": "2022-11-18T11:31:55.354569Z"
    }
   },
   "outputs": [
    {
     "data": {
      "text/plain": [
       "['this',\n",
       " 'was',\n",
       " 'an',\n",
       " 'absolutely',\n",
       " 'terrible',\n",
       " 'movie',\n",
       " \"don't\",\n",
       " 'be',\n",
       " 'lured',\n",
       " 'in',\n",
       " 'by',\n",
       " 'christopher',\n",
       " 'walken',\n",
       " 'or',\n",
       " 'michael',\n",
       " 'ironside',\n",
       " 'both',\n",
       " 'are',\n",
       " 'great',\n",
       " 'actors',\n",
       " 'but',\n",
       " 'this',\n",
       " 'must',\n",
       " 'simply',\n",
       " 'be',\n",
       " 'their',\n",
       " 'worst',\n",
       " 'role',\n",
       " 'in',\n",
       " 'history',\n",
       " 'even',\n",
       " 'their',\n",
       " 'great',\n",
       " 'acting',\n",
       " 'could',\n",
       " 'not',\n",
       " 'redeem',\n",
       " 'this',\n",
       " \"movie's\",\n",
       " 'ridiculous',\n",
       " 'storyline',\n",
       " 'this',\n",
       " 'movie',\n",
       " 'is',\n",
       " 'an',\n",
       " 'early',\n",
       " 'nineties',\n",
       " 'us',\n",
       " 'propaganda',\n",
       " 'piece',\n",
       " 'the',\n",
       " 'most',\n",
       " 'pathetic',\n",
       " 'scenes',\n",
       " 'were',\n",
       " 'those',\n",
       " 'when',\n",
       " 'the',\n",
       " 'columbian',\n",
       " 'rebels',\n",
       " 'were',\n",
       " 'making',\n",
       " 'their',\n",
       " 'cases',\n",
       " 'for',\n",
       " 'revolutions',\n",
       " 'maria',\n",
       " 'conchita',\n",
       " 'alonso',\n",
       " 'appeared',\n",
       " 'phony',\n",
       " 'and',\n",
       " 'her',\n",
       " 'pseudo',\n",
       " 'love',\n",
       " 'affair',\n",
       " 'with',\n",
       " 'walken',\n",
       " 'was',\n",
       " 'nothing',\n",
       " 'but',\n",
       " 'a',\n",
       " 'pathetic',\n",
       " 'emotional',\n",
       " 'plug',\n",
       " 'in',\n",
       " 'a',\n",
       " 'movie',\n",
       " 'that',\n",
       " 'was',\n",
       " 'devoid',\n",
       " 'of',\n",
       " 'any',\n",
       " 'real',\n",
       " 'meaning',\n",
       " 'i',\n",
       " 'am',\n",
       " 'disappointed',\n",
       " 'that',\n",
       " 'there',\n",
       " 'are',\n",
       " 'movies',\n",
       " 'like',\n",
       " 'this',\n",
       " 'ruining',\n",
       " \"actor's\",\n",
       " 'like',\n",
       " 'christopher',\n",
       " \"walken's\",\n",
       " 'good',\n",
       " 'name',\n",
       " 'i',\n",
       " 'could',\n",
       " 'barely',\n",
       " 'sit',\n",
       " 'through',\n",
       " 'it']"
      ]
     },
     "execution_count": 10,
     "metadata": {},
     "output_type": "execute_result"
    }
   ],
   "source": [
    "X_train[0]"
   ]
  },
  {
   "cell_type": "code",
   "execution_count": 3,
   "metadata": {
    "ExecuteTime": {
     "end_time": "2022-11-18T11:27:04.757702Z",
     "start_time": "2022-11-18T11:27:04.749351Z"
    }
   },
   "outputs": [],
   "source": [
    "from tensorflow.keras.preprocessing.sequence import pad_sequences"
   ]
  },
  {
   "cell_type": "code",
   "execution_count": 9,
   "metadata": {
    "ExecuteTime": {
     "end_time": "2022-11-18T11:30:54.726081Z",
     "start_time": "2022-11-18T11:30:54.661233Z"
    }
   },
   "outputs": [
    {
     "ename": "ValueError",
     "evalue": "could not convert string to float: 'are'",
     "output_type": "error",
     "traceback": [
      "\u001b[0;31m---------------------------------------------------------------------------\u001b[0m",
      "\u001b[0;31mValueError\u001b[0m                                Traceback (most recent call last)",
      "Cell \u001b[0;32mIn [9], line 1\u001b[0m\n\u001b[0;32m----> 1\u001b[0m X_train_pad \u001b[38;5;241m=\u001b[39m pad_sequences(X_train,dtype\u001b[38;5;241m=\u001b[39m\u001b[38;5;124m'\u001b[39m\u001b[38;5;124mfloat32\u001b[39m\u001b[38;5;124m'\u001b[39m,padding\u001b[38;5;241m=\u001b[39m\u001b[38;5;124m'\u001b[39m\u001b[38;5;124mpost\u001b[39m\u001b[38;5;124m'\u001b[39m, value\u001b[38;5;241m=\u001b[39m\u001b[38;5;241m0.0\u001b[39m,maxlen\u001b[38;5;241m=\u001b[39m\u001b[38;5;241m100\u001b[39m)\n\u001b[1;32m      2\u001b[0m X_test_pad \u001b[38;5;241m=\u001b[39m pad_sequences(X_test,dtype\u001b[38;5;241m=\u001b[39m\u001b[38;5;124m'\u001b[39m\u001b[38;5;124mfloat32\u001b[39m\u001b[38;5;124m'\u001b[39m,padding\u001b[38;5;241m=\u001b[39m\u001b[38;5;124m'\u001b[39m\u001b[38;5;124mpost\u001b[39m\u001b[38;5;124m'\u001b[39m,value\u001b[38;5;241m=\u001b[39m\u001b[38;5;241m0.0\u001b[39m, maxlen\u001b[38;5;241m=\u001b[39m\u001b[38;5;241m100\u001b[39m)\n",
      "File \u001b[0;32m~/.pyenv/versions/3.10.6/envs/lewagon/lib/python3.10/site-packages/keras/utils/data_utils.py:1078\u001b[0m, in \u001b[0;36mpad_sequences\u001b[0;34m(sequences, maxlen, dtype, padding, truncating, value)\u001b[0m\n\u001b[1;32m   1075\u001b[0m     \u001b[38;5;28;01mraise\u001b[39;00m \u001b[38;5;167;01mValueError\u001b[39;00m(\u001b[38;5;124mf\u001b[39m\u001b[38;5;124m'\u001b[39m\u001b[38;5;124mTruncating type \u001b[39m\u001b[38;5;124m\"\u001b[39m\u001b[38;5;132;01m{\u001b[39;00mtruncating\u001b[38;5;132;01m}\u001b[39;00m\u001b[38;5;124m\"\u001b[39m\u001b[38;5;124m not understood\u001b[39m\u001b[38;5;124m'\u001b[39m)\n\u001b[1;32m   1077\u001b[0m \u001b[38;5;66;03m# check `trunc` has expected shape\u001b[39;00m\n\u001b[0;32m-> 1078\u001b[0m trunc \u001b[38;5;241m=\u001b[39m \u001b[43mnp\u001b[49m\u001b[38;5;241;43m.\u001b[39;49m\u001b[43masarray\u001b[49m\u001b[43m(\u001b[49m\u001b[43mtrunc\u001b[49m\u001b[43m,\u001b[49m\u001b[43m \u001b[49m\u001b[43mdtype\u001b[49m\u001b[38;5;241;43m=\u001b[39;49m\u001b[43mdtype\u001b[49m\u001b[43m)\u001b[49m\n\u001b[1;32m   1079\u001b[0m \u001b[38;5;28;01mif\u001b[39;00m trunc\u001b[38;5;241m.\u001b[39mshape[\u001b[38;5;241m1\u001b[39m:] \u001b[38;5;241m!=\u001b[39m sample_shape:\n\u001b[1;32m   1080\u001b[0m     \u001b[38;5;28;01mraise\u001b[39;00m \u001b[38;5;167;01mValueError\u001b[39;00m(\n\u001b[1;32m   1081\u001b[0m         \u001b[38;5;124mf\u001b[39m\u001b[38;5;124m\"\u001b[39m\u001b[38;5;124mShape of sample \u001b[39m\u001b[38;5;132;01m{\u001b[39;00mtrunc\u001b[38;5;241m.\u001b[39mshape[\u001b[38;5;241m1\u001b[39m:]\u001b[38;5;132;01m}\u001b[39;00m\u001b[38;5;124m of sequence at \u001b[39m\u001b[38;5;124m\"\u001b[39m\n\u001b[1;32m   1082\u001b[0m         \u001b[38;5;124mf\u001b[39m\u001b[38;5;124m\"\u001b[39m\u001b[38;5;124mposition \u001b[39m\u001b[38;5;132;01m{\u001b[39;00midx\u001b[38;5;132;01m}\u001b[39;00m\u001b[38;5;124m is different from expected shape \u001b[39m\u001b[38;5;124m\"\u001b[39m\n\u001b[1;32m   1083\u001b[0m         \u001b[38;5;124mf\u001b[39m\u001b[38;5;124m\"\u001b[39m\u001b[38;5;132;01m{\u001b[39;00msample_shape\u001b[38;5;132;01m}\u001b[39;00m\u001b[38;5;124m\"\u001b[39m\n\u001b[1;32m   1084\u001b[0m     )\n",
      "\u001b[0;31mValueError\u001b[0m: could not convert string to float: 'are'"
     ]
    }
   ],
   "source": [
    "X_train_pad = pad_sequences(X_train,dtype='float32',padding='post', value=0.0,maxlen=100)\n",
    "X_test_pad = pad_sequences(X_test,dtype='float32',padding='post',value=0.0, maxlen=100)"
   ]
  },
  {
   "cell_type": "markdown",
   "metadata": {},
   "source": [
    "❓ **Question** ❓ In order to have ready-to-use data, do not forget to pad your sequences so you have tensors that can be divided into batches (of `batch_size`) during the optimization. Store the padded values in `X_train_pad` and `X_test_pad`. Do not forget the important arguments of the padding ;)"
   ]
  },
  {
   "cell_type": "code",
   "execution_count": 147,
   "metadata": {
    "ExecuteTime": {
     "end_time": "2022-11-18T11:19:56.071748Z",
     "start_time": "2022-11-18T11:19:56.032835Z"
    }
   },
   "outputs": [
    {
     "ename": "NameError",
     "evalue": "name 'X_train_pad' is not defined",
     "output_type": "error",
     "traceback": [
      "\u001b[0;31m---------------------------------------------------------------------------\u001b[0m",
      "\u001b[0;31mNameError\u001b[0m                                 Traceback (most recent call last)",
      "Cell \u001b[0;32mIn [147], line 3\u001b[0m\n\u001b[1;32m      1\u001b[0m \u001b[38;5;66;03m### YOUR CODE HERE\u001b[39;00m\n\u001b[0;32m----> 3\u001b[0m \u001b[38;5;28;01massert\u001b[39;00m(\u001b[38;5;28mlen\u001b[39m(X_train_pad\u001b[38;5;241m.\u001b[39mshape) \u001b[38;5;241m==\u001b[39m \u001b[38;5;241m3\u001b[39m)\n\u001b[1;32m      4\u001b[0m \u001b[38;5;28;01massert\u001b[39;00m(\u001b[38;5;28mlen\u001b[39m(X_test_pad\u001b[38;5;241m.\u001b[39mshape) \u001b[38;5;241m==\u001b[39m \u001b[38;5;241m3\u001b[39m)\n\u001b[1;32m      5\u001b[0m \u001b[38;5;28;01massert\u001b[39;00m(X_train_pad\u001b[38;5;241m.\u001b[39mshape[\u001b[38;5;241m2\u001b[39m] \u001b[38;5;241m==\u001b[39m \u001b[38;5;241m100\u001b[39m)\n",
      "\u001b[0;31mNameError\u001b[0m: name 'X_train_pad' is not defined"
     ]
    }
   ],
   "source": [
    "### YOUR CODE HERE\n",
    "\n",
    "assert(len(X_train_pad.shape) == 3)\n",
    "assert(len(X_test_pad.shape) == 3)\n",
    "assert(X_train_pad.shape[2] == 100)\n",
    "assert(X_test_pad.shape[2] == 100)"
   ]
  },
  {
   "cell_type": "code",
   "execution_count": null,
   "metadata": {},
   "outputs": [],
   "source": []
  }
 ],
 "metadata": {
  "kernelspec": {
   "display_name": "Python 3 (ipykernel)",
   "language": "python",
   "name": "python3"
  },
  "language_info": {
   "codemirror_mode": {
    "name": "ipython",
    "version": 3
   },
   "file_extension": ".py",
   "mimetype": "text/x-python",
   "name": "python",
   "nbconvert_exporter": "python",
   "pygments_lexer": "ipython3",
   "version": "3.10.6"
  },
  "toc": {
   "base_numbering": 1,
   "nav_menu": {},
   "number_sections": true,
   "sideBar": true,
   "skip_h1_title": false,
   "title_cell": "Table of Contents",
   "title_sidebar": "Contents",
   "toc_cell": false,
   "toc_position": {},
   "toc_section_display": true,
   "toc_window_display": false
  }
 },
 "nbformat": 4,
 "nbformat_minor": 4
}
